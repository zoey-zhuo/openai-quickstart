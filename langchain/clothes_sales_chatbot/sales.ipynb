{
 "cells": [
  {
   "cell_type": "code",
   "execution_count": 1,
   "metadata": {},
   "outputs": [],
   "source": [
    "from langchain.embeddings.openai import OpenAIEmbeddings\n",
    "from langchain.text_splitter import CharacterTextSplitter\n",
    "from langchain.vectorstores import FAISS"
   ]
  },
  {
   "cell_type": "code",
   "execution_count": 3,
   "metadata": {},
   "outputs": [],
   "source": [
    "with open(\"real_estate_sales_data.txt\", 'r', encoding='utf-8') as f:\n",
    "    real_estate_sales = f.read()"
   ]
  },
  {
   "cell_type": "code",
   "execution_count": 4,
   "metadata": {},
   "outputs": [],
   "source": [
    "text_splitter = CharacterTextSplitter(        \n",
    "    separator = r'\\d+\\.',\n",
    "    chunk_size = 100,\n",
    "    chunk_overlap  = 0,\n",
    "    length_function = len,\n",
    "    is_separator_regex = True,\n",
    ")"
   ]
  },
  {
   "cell_type": "code",
   "execution_count": 5,
   "metadata": {},
   "outputs": [],
   "source": [
    "docs = text_splitter.create_documents([real_estate_sales])"
   ]
  },
  {
   "cell_type": "code",
   "execution_count": 6,
   "metadata": {},
   "outputs": [
    {
     "name": "stderr",
     "output_type": "stream",
     "text": [
      "d:\\AITraining\\miniconda3\\envs\\langchain\\lib\\site-packages\\langchain_core\\_api\\deprecation.py:119: LangChainDeprecationWarning: The class `OpenAIEmbeddings` was deprecated in LangChain 0.0.9 and will be removed in 0.3.0. An updated version of the class exists in the langchain-openai package and should be used instead. To use it run `pip install -U langchain-openai` and import as `from langchain_openai import OpenAIEmbeddings`.\n",
      "  warn_deprecated(\n"
     ]
    }
   ],
   "source": [
    "db = FAISS.from_documents(docs, OpenAIEmbeddings())"
   ]
  },
  {
   "cell_type": "code",
   "execution_count": 7,
   "metadata": {},
   "outputs": [
    {
     "name": "stdout",
     "output_type": "stream",
     "text": [
      "[客户问题] 这件衣服有打折吗？\n",
      "[销售回答] 这件衣服目前有折扣优惠，具体的折扣幅度您可以在店内或我们的网站上查看，通常会有特别的促销活动。\n",
      "\n",
      "[客户问题] 你们的衣服有季节性折扣吗？\n",
      "[销售回答] 是的，我们会在不同的季节推出折扣活动，您可以关注我们的促销信息，获取最新的折扣优惠。\n",
      "\n",
      "[客户问题] 这件衣服的价格能不能优惠一点？\n",
      "[销售回答] 我们的衣服目前正在做促销活动，已经是最优惠的价格了。不过，如果您购买多件，我们可以为您提供额外的折扣。\n",
      "\n",
      "[客户问题] 这款衣服有没有优惠活动？\n",
      "[销售回答] 我们目前有一些促销活动，包括[具体活动]，您可以查看我们的活动公告，或询问我们的工作人员获取最新信息。\n",
      "\n"
     ]
    }
   ],
   "source": [
    "#test\n",
    "answer_list = db.similarity_search(\"有打折吗？\")\n",
    "for ans in answer_list:\n",
    "    print(ans.page_content + \"\\n\")"
   ]
  },
  {
   "cell_type": "code",
   "execution_count": 8,
   "metadata": {},
   "outputs": [],
   "source": [
    "db.save_local(\"real_estates_sale\")"
   ]
  }
 ],
 "metadata": {
  "kernelspec": {
   "display_name": "Python 3.10.14 ('langchain')",
   "language": "python",
   "name": "python3"
  },
  "language_info": {
   "codemirror_mode": {
    "name": "ipython",
    "version": 3
   },
   "file_extension": ".py",
   "mimetype": "text/x-python",
   "name": "python",
   "nbconvert_exporter": "python",
   "pygments_lexer": "ipython3",
   "version": "3.10.14"
  },
  "orig_nbformat": 4,
  "vscode": {
   "interpreter": {
    "hash": "c04d307f771db1dd846199da2c1d75265a1b9bc540370679d96c93f16c943a5d"
   }
  }
 },
 "nbformat": 4,
 "nbformat_minor": 2
}
